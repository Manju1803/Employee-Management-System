{
 "cells": [
  {
   "cell_type": "markdown",
   "id": "269036af-23ad-4a08-8b33-c460787d51ec",
   "metadata": {},
   "source": [
    " ### EMPLOYEE MANAGEMENT SYSTEM"
   ]
  },
  {
   "cell_type": "code",
   "execution_count": 3,
   "id": "923baf17-6bf9-4319-a278-f2fc46cb3135",
   "metadata": {},
   "outputs": [
    {
     "name": "stdin",
     "output_type": "stream",
     "text": [
      "\n",
      "Enter 1 to Add Employee | 2 to Display List | 3 to Search | 4 to Update | 0 to Exit:  1\n",
      "Employee Name:  Vikram\n",
      "Age:  23\n",
      "Emp ID:  101\n",
      "Position:  Developer\n",
      "Salary:  34000\n",
      "Experience:  2\n",
      "\n",
      "Enter 1 to Add Employee | 2 to Display List | 3 to Search | 4 to Update | 0 to Exit:  1\n",
      "Employee Name:  Pavithra\n",
      "Age:  45\n",
      "Emp ID:  103\n",
      "Position:  Designer\n",
      "Salary:  56000\n",
      "Experience:  7\n",
      "\n",
      "Enter 1 to Add Employee | 2 to Display List | 3 to Search | 4 to Update | 0 to Exit:  2\n"
     ]
    },
    {
     "name": "stdout",
     "output_type": "stream",
     "text": [
      "\n",
      "NAME | AGE | EMP ID | POSITION | SALARY | EXPERIENCE\n",
      "  Vikram  |  23  |  101 |  Developer  |  34000  |  2\n",
      "  Pavithra  |  45  |  103 |  Designer  |  56000  |  7\n"
     ]
    },
    {
     "name": "stdin",
     "output_type": "stream",
     "text": [
      "\n",
      "Enter 1 to Add Employee | 2 to Display List | 3 to Search | 4 to Update | 0 to Exit:  3\n",
      "Enter the name to search: Pavithra\n"
     ]
    },
    {
     "name": "stdout",
     "output_type": "stream",
     "text": [
      "  Pavithra  |  45  |  103 |  Designer  |  56000  |  7\n"
     ]
    },
    {
     "name": "stdin",
     "output_type": "stream",
     "text": [
      "\n",
      "Enter 1 to Add Employee | 2 to Display List | 3 to Search | 4 to Update | 0 to Exit:  4\n",
      "Enter the Emp Id: 101\n"
     ]
    },
    {
     "name": "stdout",
     "output_type": "stream",
     "text": [
      "  Vikram  |  23  |  101 |  Developer  |  34000  |  2\n"
     ]
    },
    {
     "name": "stdin",
     "output_type": "stream",
     "text": [
      "Enter 1 for update_name || 2 for age || 3 for id || 4 for position || 5 for salary || 6 for experience 4\n",
      "Update Position: Python Developer\n",
      "Enter 1 for update_name || 2 for age || 3 for id || 4 for position || 5 for salary || 6 for experience 0\n"
     ]
    },
    {
     "name": "stdout",
     "output_type": "stream",
     "text": [
      "  Vikram  |  23  |  101 |  Python Developer  |  34000  |  2\n"
     ]
    },
    {
     "name": "stdin",
     "output_type": "stream",
     "text": [
      "\n",
      "Enter 1 to Add Employee | 2 to Display List | 3 to Search | 4 to Update | 0 to Exit:  2\n"
     ]
    },
    {
     "name": "stdout",
     "output_type": "stream",
     "text": [
      "\n",
      "NAME | AGE | EMP ID | POSITION | SALARY | EXPERIENCE\n",
      "  Vikram  |  23  |  101 |  Python Developer  |  34000  |  2\n",
      "  Pavithra  |  45  |  103 |  Designer  |  56000  |  7\n"
     ]
    },
    {
     "name": "stdin",
     "output_type": "stream",
     "text": [
      "\n",
      "Enter 1 to Add Employee | 2 to Display List | 3 to Search | 4 to Update | 0 to Exit:  0\n"
     ]
    },
    {
     "name": "stdout",
     "output_type": "stream",
     "text": [
      "\n",
      "Exiting the program...\n"
     ]
    }
   ],
   "source": [
    "# create a class name EMPLOYEE \n",
    "# create relatable variables\n",
    "# receive the values using get method\n",
    "# update the values using set method\n",
    "\n",
    "class Employee:\n",
    "    def __init__(self):\n",
    "        self.name = input(\"Employee Name: \")\n",
    "        self.age = input(\"Age: \")\n",
    "        self.emp_id = input(\"Emp ID: \")\n",
    "        self.position = input(\"Position: \")\n",
    "        self.salary = input(\"Salary: \")\n",
    "        self.experience = input(\"Experience: \")\n",
    "\n",
    "# Getter methods\n",
    "    \n",
    "    def get_name(self):\n",
    "        return self.name\n",
    "    def get_age(self):\n",
    "        return self.age\n",
    "    def get_id(self):\n",
    "        return self.emp_id\n",
    "    def get_position(self):\n",
    "        return self.position\n",
    "    def get_salary(self):\n",
    "        return self.salary\n",
    "    def get_experience(self):\n",
    "        return self.experience\n",
    "\n",
    "# Setter methods\n",
    "    \n",
    "    def set_name(self, new_name):\n",
    "        self.name = new_name\n",
    "    def set_age(self, new_age):\n",
    "        self.age = new_age\n",
    "    def set_id(self, new_id):\n",
    "        self.emp_id = new_id\n",
    "    def set_position(self, new_position):\n",
    "        self.position = new_position\n",
    "    def set_salary(self, new_salary):\n",
    "        self.salary = new_salary\n",
    "    def set_experience(self, new_experience):\n",
    "        self.experience = new_experience\n",
    "\n",
    "\n",
    "\n",
    "# EMPLOYEE MANAGEMENT CLASS\n",
    "\n",
    "class EmpDetails:\n",
    "    def __init__(self):\n",
    "        self.emp_list = []\n",
    "\n",
    "# Function 1: Add Employee\n",
    "    \n",
    "    def add_emp(self):\n",
    "        e = Employee()\n",
    "        self.emp_list.append(e)\n",
    "\n",
    "# Function 2: Display Employee List\n",
    "    \n",
    "    def display(self):\n",
    "        print(\"\\nNAME | AGE | EMP ID | POSITION | SALARY | EXPERIENCE\")\n",
    "        for i in self.emp_list:\n",
    "             print(\" \",i.get_name(),\" | \",i.get_age(),\" | \",i.get_id(),\"| \",i.get_position(),\" | \",i.get_salary(),\" | \",i.get_experience())\n",
    "\n",
    "# Function 3: Search Employee by Name\n",
    "\n",
    "    def search(self):\n",
    "        value = input(\"Enter the name to search:\")\n",
    "        for i in self.emp_list:\n",
    "            if value == i.get_name():\n",
    "                print(\" \",i.get_name(),\" | \",i.get_age(),\" | \",i.get_id(),\"| \",i.get_position(),\" | \",i.get_salary(),\" | \",i.get_experience())          \n",
    "                return\n",
    "        print(\"\\nEmployee not found!\")\n",
    "\n",
    "# Function 4: Update Employee Details\n",
    "\n",
    "    def update(self):\n",
    "        id = input(\"Enter the Emp Id:\")\n",
    "        for i in self.emp_list:\n",
    "            if id==i.get_id():\n",
    "                print(\" \",i.get_name(),\" | \",i.get_age(),\" | \",i.get_id(),\"| \",i.get_position(),\" | \",i.get_salary(),\" | \",i.get_experience())\n",
    "                u = EmpDetails()\n",
    "                a=1\n",
    "                while a!=0:\n",
    "                    a=int(input(\"Enter 1 for update_name || 2 for age || 3 for id || 4 for position || 5 for salary || 6 for experience\"))\n",
    "                    if a==1:\n",
    "                        new_name = input(\"Update Name:\")\n",
    "                        i.set_name(new_name)\n",
    "                    elif a==2:\n",
    "                        new_age = input(\"Update Age:\")\n",
    "                        i.set_age(new_age)\n",
    "                    elif a==3:\n",
    "                        new_id = input(\"Update Emp ID:\")\n",
    "                        i.set_id(new_id)\n",
    "                    elif a==4:\n",
    "                        new_position = input(\"Update Position:\")\n",
    "                        i.set_position(new_position)\n",
    "                    elif a==5:\n",
    "                        new_salary = input(\"Update Salary:\")\n",
    "                        i.set_salary(new_salary)\n",
    "                    elif a==6:\n",
    "                        new_experience = input(\"Update Experience:\")\n",
    "                        i.set_experience(new_experience)  \n",
    "                print(\" \",i.get_name(),\" | \",i.get_age(),\" | \",i.get_id(),\"| \",i.get_position(),\" | \",i.get_salary(),\" | \",i.get_experience())\n",
    "           \n",
    "\n",
    "# CHOOSE FUNCTION\n",
    "\n",
    "f = EmpDetails()\n",
    "option = 1\n",
    "while option!=0:\n",
    "    option = int(input(\"\\nEnter 1 to Add Employee | 2 to Display List | 3 to Search | 4 to Update | 0 to Exit: \"))\n",
    "    if option == 1:\n",
    "        f.add_emp()\n",
    "    elif option == 2:\n",
    "        f.display()\n",
    "    elif option == 3:\n",
    "        f.search()\n",
    "    elif option == 4:\n",
    "        f.update()\n",
    "    elif option == 0:\n",
    "        print(\"\\nExiting the program...\")\n",
    "    else:\n",
    "        print(\"\\nInvalid choice! Please try again.\")\n"
   ]
  },
  {
   "cell_type": "code",
   "execution_count": null,
   "id": "2270e44e-3e44-4a00-b3f9-38c625e3c283",
   "metadata": {},
   "outputs": [],
   "source": []
  }
 ],
 "metadata": {
  "kernelspec": {
   "display_name": "Python 3 (ipykernel)",
   "language": "python",
   "name": "python3"
  },
  "language_info": {
   "codemirror_mode": {
    "name": "ipython",
    "version": 3
   },
   "file_extension": ".py",
   "mimetype": "text/x-python",
   "name": "python",
   "nbconvert_exporter": "python",
   "pygments_lexer": "ipython3",
   "version": "3.11.7"
  }
 },
 "nbformat": 4,
 "nbformat_minor": 5
}
